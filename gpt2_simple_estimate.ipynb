{
 "cells": [
  {
   "cell_type": "code",
   "execution_count": null,
   "metadata": {},
   "outputs": [],
   "source": [
    "# Copyright (c) 2023, ISCS, Wenjie Zhang.\n",
    "#\n",
    "# This source code is licensed under the MIT license found in the\n",
    "# LICENSE file in the root directory of this source tree.\n",
    "\n",
    "from __future__ import absolute_import, division, print_function, unicode_literals\n",
    "\n",
    "import argparse\n",
    "\n",
    "# miscellaneous\n",
    "import builtins\n",
    "import datetime\n",
    "import json\n",
    "import sys\n",
    "import time\n",
    "\n",
    "# onnx\n",
    "# The onnx import causes deprecation warnings every time workers\n",
    "# are spawned during testing. So, we filter out those warnings.\n",
    "import warnings\n",
    "\n",
    "# numpy\n",
    "import numpy as np\n",
    "import sklearn.metrics\n",
    "\n",
    "# pytorch\n",
    "import torch\n",
    "import torch.nn as nn\n",
    "\n",
    "from dsmeasure.core.abstract_operator import AbstractOperatorConfig, AbstractOperator\n",
    "from dsmeasure.common_operators.op_common import OpStaticComputational, OpStaticNonComputational\n",
    "from dsmeasure.common_operators.op_config import OperatorComputationalConfig, OperatorNonComputationalConfig, OperatorCustomConfig\n",
    "from dsmeasure.core.operator_manager import OperatorManager\n",
    "from dsmeasure.core.device_manager import DeviceManager\n",
    "from dsmeasure.device.gpu import DeviceCUDAConfig\n",
    "from models import transformer\n",
    "\n",
    "from dsmeasure.core.engine import CostEngine"
   ]
  },
  {
   "cell_type": "code",
   "execution_count": null,
   "metadata": {},
   "outputs": [],
   "source": [
    "gpt2 = transformer.GPT2Model(\n",
    "    \n",
    ")"
   ]
  }
 ],
 "metadata": {
  "kernelspec": {
   "display_name": "torch_2_0_1",
   "language": "python",
   "name": "python3"
  },
  "language_info": {
   "name": "python",
   "version": "3.10.12"
  },
  "orig_nbformat": 4
 },
 "nbformat": 4,
 "nbformat_minor": 2
}
