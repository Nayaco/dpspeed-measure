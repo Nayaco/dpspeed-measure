{
 "cells": [
  {
   "cell_type": "code",
   "execution_count": 1,
   "metadata": {},
   "outputs": [],
   "source": [
    "# Copyright (c) 2023, ISCS, Wenjie Zhang.\n",
    "#\n",
    "# This source code is licensed under the MIT license found in the\n",
    "# LICENSE file in the root directory of this source tree.\n",
    "\n",
    "from __future__ import absolute_import, division, print_function, unicode_literals\n",
    "\n",
    "import argparse\n",
    "\n",
    "import builtins\n",
    "import datetime\n",
    "import json\n",
    "import sys\n",
    "import time\n",
    "\n",
    "import numpy as np\n",
    "import torch\n",
    "\n",
    "from dsmeasure2.core.dsm_device_mng   import DeviceManager\n",
    "from dsmeasure2.core.dsm_operator_mng import OperatorManager\n",
    "\n",
    "from dsmeasure2.core.dsm_tensor   import AbstractTensor\n",
    "from dsmeasure2.core.dsm_device   import AbstractDeviceConfig, AbstractDevice\n",
    "from dsmeasure2.core.dsm_operator import AbstractOperatorConfig, \\\n",
    "                                         AbstractOperator, \\\n",
    "                                         OperatorComputationalConfig, \\\n",
    "                                         OperatorNonComputationalConfig , \\\n",
    "                                         OperatorCustomConfig , \\\n",
    "                                         OpStaticComputational , \\\n",
    "                                         OpStaticNonComputational, \\\n",
    "                                         OpStaticDerivative\n",
    "\n",
    "from dsmeasure2.device.device_cuda import DeviceCUDA, DeviceCUDAConfig\n",
    "from dsmeasure2.device.device_pcie import DevicePCIE4, DevicePCIEConfig\n",
    "\n",
    "from dsmeasure2.core.dsm_tensor_mng    import TensorManager\n",
    "from dsmeasure2.graph.tensor_define    import ActivationTensor, WeightTensor, TensorState\n",
    "from dsmeasure2.graph.operator_graph   import UnaryOperator, BinaryOperator, TernaryOperator, InitiateOperator\n",
    "from dsmeasure2.graph.unary_operator   import make_linear, make_layernorm, make_dropout, make_gelu, make_softmax\n",
    "from dsmeasure2.graph.binary_operator  import make_add, make_matmul\n",
    "from dsmeasure2.graph.operator_attn    import make_attn_tp, AttentionTPCRParallel, AttentionTPCRParallelBackward\n",
    "from dsmeasure2.graph.dsm2_transformer import make_ffn_gpt2, FeedForwardGPT2, FeedForwardGPT2Backward, \\\n",
    "                                              make_transformer_block, TransformerBlockGPT2, TransformerBlockGPT2Backward\n",
    "from dsmeasure2.graph.gpt2_sequence    import make_gpt_2\n",
    "from dsmeasure2.engine import CostEngine"
   ]
  },
  {
   "cell_type": "code",
   "execution_count": 2,
   "metadata": {},
   "outputs": [],
   "source": [
    "gpt2 = make_gpt_2(\n",
    "        compute_time_linear_qkv=490,\n",
    "        compute_time_matmul_kq=214, \n",
    "        compute_time_sm=163,\n",
    "        compute_time_attention_dropout=286,\n",
    "        compute_time_matmul_v=191,\n",
    "        compute_time_linear=146,\n",
    "        compute_time_dropout_attn=140,\n",
    "\n",
    "        compute_time_linear_qkv_backward=340,\n",
    "        compute_time_matmul_kq_backward=531,\n",
    "        compute_time_sm_backward=212,\n",
    "        compute_time_attention_dropout_backward=248,\n",
    "        compute_time_matmul_v_backward=360,\n",
    "        compute_time_linear_backward=250,\n",
    "        compute_time_dropout_attn_backward=155,\n",
    "\n",
    "        compute_time_allreduce_attn=2200,\n",
    "\n",
    "        compute_time_linear_1=512,\n",
    "        compute_time_gelu=428,\n",
    "        compute_time_linear_2=483,\n",
    "        compute_time_dropout_ffn=75,\n",
    "        \n",
    "        compute_time_linear_1_backward=442,\n",
    "        compute_time_gelu_backward=210,\n",
    "        compute_time_linear_2_backward=100,\n",
    "        compute_time_dropout_ffn_backward=102,\n",
    "\n",
    "        compute_time_allreduce_ffn=2200,\n",
    "        \n",
    "        compute_time_layernorm_1=67,\n",
    "        compute_time_layernorm_2=67,\n",
    "        compute_time_residual_add_1=67,\n",
    "        compute_time_residual_add_2=67,\n",
    "\n",
    "        compute_time_layernorm_1_backward=236,\n",
    "        compute_time_layernorm_2_backward=236,\n",
    "\n",
    "        compute_time_loss_with_backward=12000,\n",
    "\n",
    "        batch_size=8,\n",
    "        seq_len=1024,\n",
    "        hidden_size=1792,\n",
    "        head_num=16,\n",
    "        head_hidden_size=112,\n",
    "        tensor_parallel=2,\n",
    "        precision=2,\n",
    "\n",
    "        transfomer_block_num=2\n",
    "    )\n",
    "for _op in gpt2:\n",
    "        OperatorManager().register(_op)"
   ]
  },
  {
   "cell_type": "code",
   "execution_count": 3,
   "metadata": {},
   "outputs": [
    {
     "name": "stdout",
     "output_type": "stream",
     "text": [
      "<operator-64, init_fn>\n",
      "<operator-65, transformer_block_gpt2>\n",
      "<operator-67, attention_tpcr_parallel>\n",
      "<operator-69, matmul_qk>\n",
      "<operator-70, softmax_forward>\n",
      "<operator-71, dropout_forward>\n",
      "<operator-72, matmul_v>\n",
      "<operator-73, linear_forward>\n",
      "<operator-74, allreduce_forward>\n",
      "<operator-75, output_dropout>\n",
      "<operator-76, add_forward>\n",
      "<operator-77, layernorm_forward>\n",
      "<operator-78, ffn_gpt2>\n",
      "<operator-80, gelu_forward>\n",
      "<operator-81, linear_2_forward>\n",
      "<operator-82, allreduce_forward>\n",
      "<operator-83, dropout_forward>\n",
      "<operator-84, add_forward>\n",
      "<operator-85, transformer_block_gpt2>\n",
      "<operator-87, attention_tpcr_parallel>\n",
      "<operator-89, matmul_qk>\n",
      "<operator-90, softmax_forward>\n",
      "<operator-91, dropout_forward>\n",
      "<operator-92, matmul_v>\n",
      "<operator-93, linear_forward>\n",
      "<operator-94, allreduce_forward>\n",
      "<operator-95, output_dropout>\n",
      "<operator-96, add_forward>\n",
      "<operator-97, layernorm_forward>\n",
      "<operator-98, ffn_gpt2>\n",
      "<operator-100, gelu_forward>\n",
      "<operator-101, linear_2_forward>\n",
      "<operator-102, allreduce_forward>\n",
      "<operator-103, dropout_forward>\n",
      "<operator-104, add_forward>\n",
      "<operator-105, loss_fn>\n",
      "<operator-106, transformer_block_gpt2_backward>\n",
      "<operator-109, linear_2_backward>\n",
      "<operator-110, gelu_backward>\n",
      "<operator-111, linear_1_backward>\n",
      "<operator-112, allreduce_backward>\n",
      "<operator-113, layernorm_backward>\n",
      "<operator-114, backward_grad_accumulate_res1>\n",
      "<operator-115, attention_tpcr_parallel_backward>\n",
      "<operator-117, linear_backward>\n",
      "<operator-118, matmul_v_backward>\n",
      "<operator-119, dropout_backward>\n",
      "<operator-120, softmax_backward>\n",
      "<operator-121, matmul_qk_backward>\n",
      "<operator-122, linear_qkv_backward>\n",
      "<operator-123, allreduce_backward>\n",
      "<operator-124, layernorm_backward>\n",
      "<operator-125, backward_grad_accumulate_input>\n",
      "<operator-126, transformer_block_gpt2_backward>\n",
      "<operator-129, linear_2_backward>\n",
      "<operator-130, gelu_backward>\n",
      "<operator-131, linear_1_backward>\n",
      "<operator-132, allreduce_backward>\n",
      "<operator-133, layernorm_backward>\n",
      "<operator-134, backward_grad_accumulate_res1>\n",
      "<operator-135, attention_tpcr_parallel_backward>\n",
      "<operator-137, linear_backward>\n",
      "<operator-138, matmul_v_backward>\n",
      "<operator-139, dropout_backward>\n",
      "<operator-140, softmax_backward>\n",
      "<operator-141, matmul_qk_backward>\n",
      "<operator-142, linear_qkv_backward>\n",
      "<operator-143, allreduce_backward>\n",
      "<operator-144, layernorm_backward>\n",
      "<operator-145, backward_grad_accumulate_input>\n"
     ]
    }
   ],
   "source": [
    "DeviceManager().register(DeviceCUDAConfig(memory_max_capacity=40000, memory_limit_capacity=40000))\n",
    "DeviceManager().register(DevicePCIEConfig())\n",
    "CostEngine().evaluation(10, [_op._config.op_uid for _op in gpt2])"
   ]
  },
  {
   "cell_type": "code",
   "execution_count": 4,
   "metadata": {},
   "outputs": [
    {
     "data": {
      "text/plain": [
       "[<matplotlib.lines.Line2D at 0x7f7728e3cbb0>]"
      ]
     },
     "execution_count": 4,
     "metadata": {},
     "output_type": "execute_result"
    },
    {
     "data": {
      "image/png": "[encoded data removed]",
      "text/plain": [
       "<Figure size 640x480 with 1 Axes>"
      ]
     },
     "metadata": {},
     "output_type": "display_data"
    }
   ],
   "source": [
    "%matplotlib inline\n",
    "import matplotlib.pyplot as plt\n",
    "# plt.figure(figsize=(100,40))\n",
    "plt.plot(list(range(len(CostEngine().cuda_memory_trace))), CostEngine().cuda_memory_trace, '.-', markersize=1)"
   ]
  },
  {
   "cell_type": "code",
   "execution_count": 6,
   "metadata": {},
   "outputs": [
    {
     "name": "stdout",
     "output_type": "stream",
     "text": [
      "[64]\n"
     ]
    }
   ],
   "source": [
    "from dsmeasure2.flatten.flatten import flatten\n",
    "seq2 = flatten([_op._config.op_uid for _op in gpt2], [0], False)\n",
    "print(seq2)"
   ]
  }
 ],
 "metadata": {
  "kernelspec": {
   "display_name": "torch_2_0_1",
   "language": "python",
   "name": "python3"
  },
  "language_info": {
   "codemirror_mode": {
    "name": "ipython",
    "version": 3
   },
   "file_extension": ".py",
   "mimetype": "text/x-python",
   "name": "python",
   "nbconvert_exporter": "python",
   "pygments_lexer": "ipython3",
   "version": "3.10.12"
  },
  "orig_nbformat": 4
 },
 "nbformat": 4,
 "nbformat_minor": 2
}
