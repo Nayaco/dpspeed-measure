{
 "cells": [
  {
   "cell_type": "code",
   "execution_count": 1,
   "metadata": {},
   "outputs": [],
   "source": [
    "# Copyright (c) 2023, ISCS, Wenjie Zhang.\n",
    "#\n",
    "# This source code is licensed under the MIT license found in the\n",
    "# LICENSE file in the root directory of this source tree.\n",
    "\n",
    "from __future__ import absolute_import, division, print_function, unicode_literals\n",
    "\n",
    "import argparse\n",
    "\n",
    "# miscellaneous\n",
    "import builtins\n",
    "import datetime\n",
    "import json\n",
    "import sys\n",
    "import time\n",
    "\n",
    "# onnx\n",
    "# The onnx import causes deprecation warnings every time workers\n",
    "# are spawned during testing. So, we filter out those warnings.\n",
    "import warnings\n",
    "\n",
    "# numpy\n",
    "import numpy as np\n",
    "import sklearn.metrics\n",
    "\n",
    "# pytorch\n",
    "import torch\n",
    "import torch.nn as nn\n",
    "\n",
    "from dsmeasure.core.abstract_operator import AbstractOperatorConfig, AbstractOperator\n",
    "from dsmeasure.common_operators.op_common import OpStaticComputational, OpStaticNonComputational\n",
    "from dsmeasure.common_operators.op_config import OperatorComputationalConfig, OperatorNonComputationalConfig, OperatorCustomConfig\n",
    "from dsmeasure.core.operator_manager import OperatorManager\n",
    "from dsmeasure.core.device_manager import DeviceManager\n",
    "from dsmeasure.device.gpu import DeviceCUDAConfig\n",
    "from models import linear_simple\n",
    "from models import layer2linear\n",
    "\n",
    "from dsmeasure.core.engine import CostEngine"
   ]
  },
  {
   "cell_type": "code",
   "execution_count": 2,
   "metadata": {},
   "outputs": [
    {
     "name": "stdout",
     "output_type": "stream",
     "text": [
      "<operator- 65, cuda_malloc_init> \n",
      "<operator- 66, cuda_malloc_linear1> \n",
      "<operator- 67, linear1> <operator- 68, cuda_malloc_linear2> \n",
      "<operator- 69, linear2> \n",
      "<operator- 70, relu > \n",
      "<operator- 71, cuda_malloc_relu_gradin> \n",
      "<operator- 72, relu_backward> \n",
      "<operator- 73, cuda_malloc_linear2_gradin> <operator- 74, cuda_free_linear2> \n",
      "<operator- 75, linear2_backward> \n",
      "<operator- 76, cuda_free_linear1> <operator- 77, cuda_free_relu_gradin> <operator- 78, cuda_malloc_linear1_gradin> \n",
      "<operator- 79, linear1_backward> \n",
      "<operator- 80, cuda_free_linear1_gradin> <operator- 81, cuda_free_linear2_gradin> \n"
     ]
    }
   ],
   "source": [
    "\n",
    "# ls_ = linear_simple.Linear2Layer(OperatorCustomConfig(op_uid=0, op_name=\"linear_simple\"))\n",
    "# _oid, _op = OperatorManager().register(ls_)\n",
    "# print(_oid)\n",
    "# print(OperatorManager().find(_oid))\n",
    "\n",
    "layer = layer2linear.Linear2Network(OperatorCustomConfig(op_uid=0, op_name=\"layer2linear\"))\n",
    "OperatorManager().register(layer)\n",
    "print(layer)\n",
    "\n",
    "DeviceManager().register(DeviceCUDAConfig(memory_max_capacity=1000, memory_limit_capacity=1000))\n",
    "\n",
    "CostEngine().evaluation(10, [layer._config.op_uid])"
   ]
  },
  {
   "cell_type": "code",
   "execution_count": 3,
   "metadata": {},
   "outputs": [
    {
     "data": {
      "text/plain": [
       "[<matplotlib.lines.Line2D at 0x7f355e40ec50>]"
      ]
     },
     "execution_count": 3,
     "metadata": {},
     "output_type": "execute_result"
    },
    {
     "data": {
      "image/png": "[encoded data removed]",
      "text/plain": [
       "<Figure size 640x480 with 1 Axes>"
      ]
     },
     "metadata": {},
     "output_type": "display_data"
    }
   ],
   "source": [
    "%matplotlib inline\n",
    "import matplotlib.pyplot as plt\n",
    "plt.plot(list(range(len(CostEngine().cuda_memory_trace))), CostEngine().cuda_memory_trace, 's-')"
   ]
  }
 ],
 "metadata": {
  "kernelspec": {
   "display_name": "torch_2_0_1",
   "language": "python",
   "name": "python3"
  },
  "language_info": {
   "codemirror_mode": {
    "name": "ipython",
    "version": 3
   },
   "file_extension": ".py",
   "mimetype": "text/x-python",
   "name": "python",
   "nbconvert_exporter": "python",
   "pygments_lexer": "ipython3",
   "version": "3.10.12"
  },
  "orig_nbformat": 4
 },
 "nbformat": 4,
 "nbformat_minor": 2
}
